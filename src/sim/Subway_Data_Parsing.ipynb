{
  "nbformat": 4,
  "nbformat_minor": 0,
  "metadata": {
    "colab": {
      "private_outputs": true,
      "provenance": [],
      "authorship_tag": "ABX9TyP5AyCoRrUIJu/GkUsv0Vfe"
    },
    "kernelspec": {
      "name": "python3",
      "display_name": "Python 3"
    },
    "language_info": {
      "name": "python"
    }
  },
  "cells": [
    {
      "cell_type": "markdown",
      "source": [
        "Splits poorly formatted station geolocation data into x and y columns and resaves .csv."
      ],
      "metadata": {
        "id": "gU2TB2wJTUSs"
      }
    },
    {
      "cell_type": "code",
      "execution_count": null,
      "metadata": {
        "id": "60Ygnsn_rOGX"
      },
      "outputs": [],
      "source": [
        "import pandas as pd"
      ]
    },
    {
      "cell_type": "code",
      "source": [
        "df_stations = pd.read_csv('stations.csv')"
      ],
      "metadata": {
        "id": "kxMUEQV6rYJT"
      },
      "execution_count": null,
      "outputs": []
    },
    {
      "cell_type": "code",
      "source": [
        "points_x = []\n",
        "points_y = []\n",
        "for i in df_stations['the_geom']:\n",
        "    i = i.replace('POINT ', '')\n",
        "    points_x.append(float(i.split(' ')[0][1:]))\n",
        "    points_y.append(float(i.split(' ')[1][:-1]))"
      ],
      "metadata": {
        "id": "8NRbiVY-rcy_"
      },
      "execution_count": null,
      "outputs": []
    },
    {
      "cell_type": "code",
      "source": [
        "df_new = pd.DataFrame()\n",
        "df_new['id'] = df_stations['NAME']\n",
        "df_new['x'] = points_x\n",
        "df_new['y'] = points_y\n",
        "df_new['lines'] = df_stations['LINE']"
      ],
      "metadata": {
        "id": "DtcwpAG22f16"
      },
      "execution_count": null,
      "outputs": []
    },
    {
      "cell_type": "code",
      "source": [
        "df_new.to_csv('stations_data.csv')"
      ],
      "metadata": {
        "id": "QDROTC2j3kHa"
      },
      "execution_count": null,
      "outputs": []
    },
    {
      "cell_type": "markdown",
      "source": [
        "Helper function to get all stops associated with a given line (to then manually put them in the correct order using MTA line text maps)"
      ],
      "metadata": {
        "id": "gQdPRzrcTORb"
      }
    },
    {
      "cell_type": "code",
      "source": [
        "target = input(\"Line? \")\n",
        "stops = []\n",
        "for name, line in zip(df_new['NAME'], df_new['LINE']):\n",
        "    if target in line:\n",
        "        stops.append(name)\n",
        "\n",
        "for i in sorted(stops):\n",
        "    print(i)"
      ],
      "metadata": {
        "id": "FnWKzS-UWzTk"
      },
      "execution_count": null,
      "outputs": []
    }
  ]
}