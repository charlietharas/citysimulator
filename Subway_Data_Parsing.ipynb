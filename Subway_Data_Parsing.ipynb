{
  "nbformat": 4,
  "nbformat_minor": 0,
  "metadata": {
    "colab": {
      "private_outputs": true,
      "provenance": [],
      "authorship_tag": "ABX9TyO+wHWLbYdGci/9NAgb5dVP"
    },
    "kernelspec": {
      "name": "python3",
      "display_name": "Python 3"
    },
    "language_info": {
      "name": "python"
    }
  },
  "cells": [
    {
      "cell_type": "code",
      "execution_count": null,
      "metadata": {
        "id": "60Ygnsn_rOGX"
      },
      "outputs": [],
      "source": [
        "import pandas as pd"
      ]
    },
    {
      "cell_type": "code",
      "source": [
        "df = pd.read_csv('subway.csv')"
      ],
      "metadata": {
        "id": "kxMUEQV6rYJT"
      },
      "execution_count": null,
      "outputs": []
    },
    {
      "cell_type": "code",
      "source": [
        "df"
      ],
      "metadata": {
        "id": "d-tCpKjsrcNd"
      },
      "execution_count": null,
      "outputs": []
    },
    {
      "cell_type": "code",
      "source": [
        "points_x = []\n",
        "points_y = []\n",
        "for i in df['the_geom']:\n",
        "    i = i.replace('POINT ', '')\n",
        "    points_x.append(float(i.split(' ')[0][1:]))\n",
        "    points_y.append(float(i.split(' ')[1][:-1]))"
      ],
      "metadata": {
        "id": "8NRbiVY-rcy_"
      },
      "execution_count": null,
      "outputs": []
    },
    {
      "cell_type": "code",
      "source": [
        "def normalize(l, a, b):\n",
        "    min_value = min(l)\n",
        "    max_value = max(l)\n",
        "    return [(b - a) * (x - min_value) / (max_value - min_value) + a for x in l]"
      ],
      "metadata": {
        "id": "YzsU_F84ufCg"
      },
      "execution_count": null,
      "outputs": []
    },
    {
      "cell_type": "code",
      "source": [
        "points_x = normalize(points_x, -60, 60)\n",
        "points_y = normalize(points_y, -80, 80)"
      ],
      "metadata": {
        "id": "WK7GUajvvzpr"
      },
      "execution_count": null,
      "outputs": []
    },
    {
      "cell_type": "code",
      "source": [
        "f = open('subway.txt', 'w')\n",
        "for h, i, j, k in zip(df['NAME'], points_x, points_y, df['LINE']):\n",
        "    f.write(str(h).replace(' ', '_') + \" \" + str(i) + \" \" + str(j) + \" \" + str(k).replace(' ', '_') + \"\\n\");"
      ],
      "metadata": {
        "id": "Wjq_0EZytiIV"
      },
      "execution_count": null,
      "outputs": []
    },
    {
      "cell_type": "code",
      "source": [
        "target = input(\"Line? \")\n",
        "stops = []\n",
        "for name, line in zip(df['NAME'], df['LINE']):\n",
        "    if target in line:\n",
        "        stops.append(name.replace(' ', '_'))\n",
        "\n",
        "for i in sorted(stops):\n",
        "    print(i)"
      ],
      "metadata": {
        "id": "FnWKzS-UWzTk"
      },
      "execution_count": null,
      "outputs": []
    }
  ]
}